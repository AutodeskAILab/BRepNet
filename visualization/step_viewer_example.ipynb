{
 "cells": [
  {
   "cell_type": "code",
   "execution_count": 1,
   "id": "92dde212",
   "metadata": {},
   "outputs": [],
   "source": [
    "from pathlib import Path\n",
    "from jupyter_segmentation_viewer import JupyterSegmentationViewer\n",
    "#from OCC.Display.WebGl.jupyter_renderer import JupyterRenderer\n",
    "#from occwl.io import load_step"
   ]
  },
  {
   "cell_type": "code",
   "execution_count": 2,
   "id": "d00e297f",
   "metadata": {},
   "outputs": [],
   "source": [
    "step_folder = Path(\"E:/Autodesk/FusionGallery/SegmentationDataset/converted_stp\")\n",
    "seg_folder = Path(\"E:/Autodesk/FusionGallery/SegmentationDataset/s1.0.0/breps\")\n",
    "viewer = JupyterSegmentationViewer(step_folder, seg_folder)"
   ]
  },
  {
   "cell_type": "code",
   "execution_count": 9,
   "id": "2c182ca1",
   "metadata": {},
   "outputs": [
    {
     "data": {
      "application/vnd.jupyter.widget-view+json": {
       "model_id": "d6cb3f95b6194448925b134854114492",
       "version_major": 2,
       "version_minor": 0
      },
      "text/plain": [
       "HBox(children=(VBox(children=(HBox(children=(Checkbox(value=True, description='Axes', layout=Layout(height='au…"
      ]
     },
     "metadata": {},
     "output_type": "display_data"
    }
   ],
   "source": [
    "file_stem = \"142473_f37f7cba_0\"\n",
    "viewer.view_segmentation(file_stem)"
   ]
  }
 ],
 "metadata": {
  "kernelspec": {
   "display_name": "Python 3",
   "language": "python",
   "name": "python3"
  },
  "language_info": {
   "codemirror_mode": {
    "name": "ipython",
    "version": 3
   },
   "file_extension": ".py",
   "mimetype": "text/x-python",
   "name": "python",
   "nbconvert_exporter": "python",
   "pygments_lexer": "ipython3",
   "version": "3.8.8"
  }
 },
 "nbformat": 4,
 "nbformat_minor": 5
}
