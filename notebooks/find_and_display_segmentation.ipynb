{
 "cells": [
  {
   "cell_type": "markdown",
   "id": "dd356646",
   "metadata": {},
   "source": [
    "# An example generating and displaying the segmentation results\n",
    "This example notebook shows how you can evaluate a pre-trained BRepNet model and display the segmentation results.  We provide some example data and a pretrained model for the evaluation.\n",
    "\n",
    "This notebook should be started from the main BRepNet folder.  Below we check we are in the correct dir and change to the root of the BRepNet repo if not."
   ]
  },
  {
   "cell_type": "code",
   "execution_count": 1,
   "id": "9fc93455",
   "metadata": {},
   "outputs": [],
   "source": [
    "import os\n",
    "if os.path.isfile('../models/brepnet.py'):\n",
    "    # We are in the notebooks directory.  Change to the root\n",
    "    os.chdir('../')"
   ]
  },
  {
   "cell_type": "code",
   "execution_count": 2,
   "id": "9a566572",
   "metadata": {},
   "outputs": [],
   "source": [
    "from pathlib import Path\n",
    "\n",
    "# This code allows you to evaluate a pre-trained model for all step files in a folder\n",
    "from eval.evaluate_folder import evaluate_folder\n",
    "\n",
    "# This viewer allows you to visualize the results\n",
    "from visualization.jupyter_segmentation_viewer import JupyterSegmentationViewer"
   ]
  },
  {
   "cell_type": "markdown",
   "id": "3227a1e2",
   "metadata": {},
   "source": [
    "Now we would like to evaluate the model for some example files.  We can do this using `eval/evaluate_folder.py`.  We need to supply the script with the path to the step files to evaluate, the feature standadization and the pretrained model to use.\n"
   ]
  },
  {
   "cell_type": "code",
   "execution_count": 9,
   "id": "224de4b2",
   "metadata": {},
   "outputs": [
    {
     "name": "stderr",
     "output_type": "stream",
     "text": [
      "0it [00:00, ?it/s]\n",
      "GPU available: True, used: False\n",
      "TPU available: False, using: 0 TPU cores\n"
     ]
    },
    {
     "name": "stdout",
     "output_type": "stream",
     "text": [
      "Completed pipeline/extract_feature_data_from_step.py\n",
      "Warning! segment names not found.\n",
      "Use the option --segment_names path/to/segment_names.json\n",
      "Using labels from example_files/step_examples/temp_working\n"
     ]
    },
    {
     "data": {
      "application/vnd.jupyter.widget-view+json": {
       "model_id": "517d2dce60ee4d34be718185089670d9",
       "version_major": 2,
       "version_minor": 0
      },
      "text/plain": [
       "Testing: 0it [00:00, ?it/s]"
      ]
     },
     "metadata": {},
     "output_type": "display_data"
    },
    {
     "name": "stdout",
     "output_type": "stream",
     "text": [
      "--------------------------------------------------------------------------------\n",
      "DATALOADER:0 TEST RESULTS\n",
      "{'test/accuracy': 0.9042975902557373, 'test/mean_iou': 0.8008278012275696}\n",
      "--------------------------------------------------------------------------------\n"
     ]
    }
   ],
   "source": [
    "# Here is the path to some example step files for us to convert\n",
    "step_folder = Path(\"./example_files/step_examples\")\n",
    "\n",
    "# We will also need to know the feature standardization for the dataset used to train the model\n",
    "# This is found in the dataset file created by pipeline/build_dataset_file.py or pipeline/quickstart.py\n",
    "feature_standardization = Path(\"./example_files/feature_standardization/s2.0.0_step_all_features.json\")\n",
    "\n",
    "# Here is the path to a pretrained model\n",
    "pretrained_model = Path(\"./example_files/pretrained_models/pretrained_s2.0.0_step_all_features_0519_073100.ckpt\")\n",
    "\n",
    "# Now we can evaluate the model on these step files.\n",
    "# Depending on your system you may see pytorch lightning warning you  \n",
    "# GPUs are unused and more worker threads could be used in the dataloader.\n",
    "# The default options here are intended to work on a minimal system.\n",
    "evaluate_folder(step_folder, feature_standardization, pretrained_model)"
   ]
  },
  {
   "cell_type": "code",
   "execution_count": 4,
   "id": "2f6c1135",
   "metadata": {},
   "outputs": [
    {
     "name": "stdout",
     "output_type": "stream",
     "text": [
      "We found 25 example files\n",
      "Viewing example 100155_57ec5fc6_0\n"
     ]
    }
   ],
   "source": [
    "logits_folder = Path(\"example_files/step_examples/temp_working/logits\")\n",
    "step_file_stems = [ f.stem for f in step_folder.glob(\"*.stp\")]\n",
    "print(f\"We found {len(step_file_stems)} example files\")\n",
    "\n",
    "example_index = 5\n",
    "file_stem = step_file_stems[example_index]\n",
    "print(f\"Viewing example {file_stem}\")\n",
    "viewer = JupyterSegmentationViewer(file_stem, step_folder, seg_folder=step_folder, logit_folder=logits_folder)"
   ]
  },
  {
   "cell_type": "markdown",
   "id": "74a620f7",
   "metadata": {},
   "source": [
    "The solid for looks like this"
   ]
  },
  {
   "cell_type": "code",
   "execution_count": 5,
   "id": "c3171fa4",
   "metadata": {},
   "outputs": [
    {
     "data": {
      "application/vnd.jupyter.widget-view+json": {
       "model_id": "630e7e124fba4a1482b71b2a1acfc311",
       "version_major": 2,
       "version_minor": 0
      },
      "text/plain": [
       "HBox(children=(VBox(children=(HBox(children=(Checkbox(value=True, description='Axes', layout=Layout(height='au…"
      ]
     },
     "metadata": {},
     "output_type": "display_data"
    }
   ],
   "source": [
    "viewer.view_solid()"
   ]
  },
  {
   "cell_type": "markdown",
   "id": "75fe522f",
   "metadata": {},
   "source": [
    "The ground truth segmentation  looks like this."
   ]
  },
  {
   "cell_type": "code",
   "execution_count": 6,
   "id": "556eb914",
   "metadata": {},
   "outputs": [
    {
     "data": {
      "application/vnd.jupyter.widget-view+json": {
       "model_id": "936eefd6fa1642a5b52a4b8492329165",
       "version_major": 2,
       "version_minor": 0
      },
      "text/plain": [
       "HBox(children=(VBox(children=(HBox(children=(Checkbox(value=True, description='Axes', layout=Layout(height='au…"
      ]
     },
     "metadata": {},
     "output_type": "display_data"
    }
   ],
   "source": [
    "viewer.view_segmentation()"
   ]
  },
  {
   "cell_type": "markdown",
   "id": "5df236e6",
   "metadata": {},
   "source": [
    "The predicted segmentation looks like this"
   ]
  },
  {
   "cell_type": "code",
   "execution_count": 7,
   "id": "c39cfbe2",
   "metadata": {},
   "outputs": [
    {
     "data": {
      "application/vnd.jupyter.widget-view+json": {
       "model_id": "b756fd1a69ed4b71ace7567d331c4d77",
       "version_major": 2,
       "version_minor": 0
      },
      "text/plain": [
       "HBox(children=(VBox(children=(HBox(children=(Checkbox(value=True, description='Axes', layout=Layout(height='au…"
      ]
     },
     "metadata": {},
     "output_type": "display_data"
    }
   ],
   "source": [
    "viewer.view_predicted_segmentation()"
   ]
  },
  {
   "cell_type": "markdown",
   "id": "5e26a968",
   "metadata": {},
   "source": [
    "Here we show the errors in the predicted segmentation.  Faces shown in green are correct and faces shown in red are incorrect."
   ]
  },
  {
   "cell_type": "code",
   "execution_count": 8,
   "id": "3e7b6e7e",
   "metadata": {},
   "outputs": [
    {
     "data": {
      "application/vnd.jupyter.widget-view+json": {
       "model_id": "650909bda8b242a49dda786e28ddd0eb",
       "version_major": 2,
       "version_minor": 0
      },
      "text/plain": [
       "HBox(children=(VBox(children=(HBox(children=(Checkbox(value=True, description='Axes', layout=Layout(height='au…"
      ]
     },
     "metadata": {},
     "output_type": "display_data"
    }
   ],
   "source": [
    "viewer.view_errors_in_segmentation()"
   ]
  },
  {
   "cell_type": "code",
   "execution_count": null,
   "id": "de0b5cc3",
   "metadata": {},
   "outputs": [],
   "source": []
  }
 ],
 "metadata": {
  "kernelspec": {
   "display_name": "Python 3",
   "language": "python",
   "name": "python3"
  },
  "language_info": {
   "codemirror_mode": {
    "name": "ipython",
    "version": 3
   },
   "file_extension": ".py",
   "mimetype": "text/x-python",
   "name": "python",
   "nbconvert_exporter": "python",
   "pygments_lexer": "ipython3",
   "version": "3.7.10"
  }
 },
 "nbformat": 4,
 "nbformat_minor": 5
}
